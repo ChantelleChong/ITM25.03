{
  "cells": [
    {
      "cell_type": "markdown",
      "metadata": {
        "id": "view-in-github",
        "colab_type": "text"
      },
      "source": [
        "<a href=\"https://colab.research.google.com/github/ChantelleChong/ITM25.03/blob/main/group_a1_set1.ipynb\" target=\"_parent\"><img src=\"https://colab.research.google.com/assets/colab-badge.svg\" alt=\"Open In Colab\"/></a>"
      ]
    },
    {
      "cell_type": "markdown",
      "id": "2ffe1af1",
      "metadata": {
        "id": "2ffe1af1"
      },
      "source": [
        "# Imports"
      ]
    },
    {
      "cell_type": "code",
      "execution_count": null,
      "id": "d96cebb8",
      "metadata": {
        "id": "d96cebb8"
      },
      "outputs": [],
      "source": [
        "# imports and reading the pdf can go here"
      ]
    },
    {
      "cell_type": "markdown",
      "id": "6a78071d",
      "metadata": {
        "id": "6a78071d"
      },
      "source": [
        "# Pre-processing Data\n",
        "\n",
        "This is covered during the group summative"
      ]
    },
    {
      "cell_type": "markdown",
      "id": "5a5b84c5",
      "metadata": {
        "id": "5a5b84c5"
      },
      "source": [
        "### Clean `df['discounted_price']` and `df['actual_price']`\n",
        "Hint:\n",
        "- Remove the following ₹ and ,\n",
        "- Ensure that the data type is a float"
      ]
    },
    {
      "cell_type": "code",
      "execution_count": null,
      "id": "d8ce32f0",
      "metadata": {
        "id": "d8ce32f0"
      },
      "outputs": [],
      "source": [
        "# Checking the data of df['discounted_price']"
      ]
    },
    {
      "cell_type": "code",
      "execution_count": null,
      "id": "8a6ebe25",
      "metadata": {
        "id": "8a6ebe25"
      },
      "outputs": [],
      "source": [
        "# Checking the data of df['actual_price']"
      ]
    },
    {
      "cell_type": "markdown",
      "id": "8f769bb4",
      "metadata": {
        "id": "8f769bb4"
      },
      "source": [
        "### Clean `df['discount_percentage']`\n",
        "Hint:\n",
        "- Remove the following: %\n",
        "- Ensure that the data type is a float"
      ]
    },
    {
      "cell_type": "code",
      "execution_count": null,
      "id": "a1ecbffd",
      "metadata": {
        "id": "a1ecbffd"
      },
      "outputs": [],
      "source": [
        "# Checking of the data of df['discount_percentage']"
      ]
    },
    {
      "cell_type": "markdown",
      "id": "45188858",
      "metadata": {
        "id": "45188858"
      },
      "source": [
        "### Clean `df['rating']`\n",
        "Hint:\n",
        "- Check if there are missing data points using `.fillna()`\n",
        "- Check for inconsistencies in data points (look at removing ,)\n",
        "- Ensure that the type of the data is float.\n",
        "- If there are blanks or missing values, replace with a 4."
      ]
    },
    {
      "cell_type": "code",
      "execution_count": null,
      "id": "a0d5e78e",
      "metadata": {
        "id": "a0d5e78e"
      },
      "outputs": [],
      "source": [
        "# Clean 'rating' column and replace '|' with 4 --> for the sake of this test"
      ]
    },
    {
      "cell_type": "code",
      "execution_count": null,
      "id": "ebf62d53",
      "metadata": {
        "id": "ebf62d53"
      },
      "outputs": [],
      "source": [
        "# Fill None values in 'rating_count' and clean it"
      ]
    },
    {
      "cell_type": "markdown",
      "id": "705495c3",
      "metadata": {
        "id": "705495c3"
      },
      "source": [
        "# Group Portion"
      ]
    },
    {
      "cell_type": "markdown",
      "id": "796a4153",
      "metadata": {
        "id": "796a4153"
      },
      "source": [
        "### 1. Find the product with the most number of unique users who reviewed it.\n",
        "\n",
        "Hint: You may use the `lambda` function."
      ]
    },
    {
      "cell_type": "code",
      "execution_count": null,
      "id": "ce918871",
      "metadata": {
        "id": "ce918871"
      },
      "outputs": [],
      "source": []
    },
    {
      "cell_type": "markdown",
      "id": "4dba5358",
      "metadata": {
        "id": "4dba5358"
      },
      "source": [
        "### 2. Generate a summary of the total discounted price per category found at the first position (index of 0).\n",
        "\n",
        "Hint: You may use the `lambda` function"
      ]
    },
    {
      "cell_type": "code",
      "execution_count": null,
      "id": "a9be6892",
      "metadata": {
        "id": "a9be6892"
      },
      "outputs": [],
      "source": []
    },
    {
      "cell_type": "markdown",
      "id": "39eb8b59",
      "metadata": {
        "id": "39eb8b59"
      },
      "source": [
        "### 3. Determine the Product with the most frequent reviewer and the frequency of their reviews.\n",
        "\n",
        "Hint: use `explode` to expand certain datapoints into rows."
      ]
    },
    {
      "cell_type": "code",
      "execution_count": null,
      "id": "effecad4",
      "metadata": {
        "id": "effecad4"
      },
      "outputs": [],
      "source": []
    },
    {
      "cell_type": "markdown",
      "id": "e294de3e",
      "metadata": {
        "id": "e294de3e"
      },
      "source": [
        "### 4. Find the Product with the Longest Average Review Length\n",
        "\n",
        "Longest Average Review Length = on a per character basis"
      ]
    },
    {
      "cell_type": "code",
      "execution_count": null,
      "id": "0ba76591",
      "metadata": {
        "id": "0ba76591"
      },
      "outputs": [],
      "source": []
    },
    {
      "cell_type": "markdown",
      "id": "bb796684",
      "metadata": {
        "id": "bb796684"
      },
      "source": [
        "### 5. Extract and List All Unique Words from the `review` column and count their occurrences. Export the result into an excel file.\n",
        "\n",
        "Hint:\n",
        "- Simply separate the words into commas and convert the words into lowercase. The tally will be case-sensitive. Meaning, 'Amazing' and 'amazing' will be tallied as two instances.\n",
        "- Ensure that the code goes through each line of code indicated on the dataframe. You may use the import indicated below to help you create a tally for each unique word.\n",
        "  - `from collections import Counter`\n",
        "  \n",
        "Example Output:\n",
        "![Expected Result](output.png)"
      ]
    },
    {
      "cell_type": "code",
      "execution_count": null,
      "id": "a3bf8efd",
      "metadata": {
        "id": "a3bf8efd"
      },
      "outputs": [],
      "source": []
    }
  ],
  "metadata": {
    "kernelspec": {
      "display_name": "Python 3 (ipykernel)",
      "language": "python",
      "name": "python3"
    },
    "language_info": {
      "codemirror_mode": {
        "name": "ipython",
        "version": 3
      },
      "file_extension": ".py",
      "mimetype": "text/x-python",
      "name": "python",
      "nbconvert_exporter": "python",
      "pygments_lexer": "ipython3",
      "version": "3.9.13"
    },
    "colab": {
      "provenance": [],
      "include_colab_link": true
    }
  },
  "nbformat": 4,
  "nbformat_minor": 5
}